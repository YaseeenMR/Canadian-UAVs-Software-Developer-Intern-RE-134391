{
 "cells": [
  {
   "cell_type": "code",
   "execution_count": 11,
   "metadata": {},
   "outputs": [
    {
     "name": "stdout",
     "output_type": "stream",
     "text": [
      "Matching complete. Results saved in MatchedData.json\n"
     ]
    }
   ],
   "source": [
    "import pandas as pd\n",
    "import json\n",
    "\n",
    "# Load CSV file\n",
    "df = pd.read_csv(\"SensorData1.csv\")\n",
    "\n",
    "# Load JSON file\n",
    "with open(\"SensorData2.json\", \"r\") as json_file:\n",
    "    json_data = json.load(json_file)\n",
    "\n",
    "# Convert JSON data to DataFrame\n",
    "df_json = pd.DataFrame(json_data)\n",
    "\n",
    "# Round latitude and longitude to 2 decimal places\n",
    "df[\"latitude\"] = df[\"latitude\"].round(2)\n",
    "df[\"longitude\"] = df[\"longitude\"].round(2)\n",
    "df_json[\"latitude\"] = df_json[\"latitude\"].round(2)\n",
    "df_json[\"longitude\"] = df_json[\"longitude\"].round(2)\n",
    "\n",
    "# Merge both DataFrames on rounded latitude and longitude\n",
    "merged_df = df.merge(df_json, on=[\"latitude\", \"longitude\"], how=\"inner\", suffixes=(\"_csv\", \"_json\"))\n",
    "\n",
    "# Create the output dictionary {id_csv: id_json}\n",
    "output_data = {int(row.id_csv): int(row.id_json) for row in merged_df.itertuples()}\n",
    "\n",
    "# Save results to a JSON file\n",
    "with open(\"OutputData.json\", \"w\") as output_file:\n",
    "    json.dump(output_data, output_file, indent=4)\n",
    "\n",
    "print(\"Matching complete. Results saved in OutputData.json\")\n"
   ]
  }
 ],
 "metadata": {
  "kernelspec": {
   "display_name": "base",
   "language": "python",
   "name": "python3"
  },
  "language_info": {
   "codemirror_mode": {
    "name": "ipython",
    "version": 3
   },
   "file_extension": ".py",
   "mimetype": "text/x-python",
   "name": "python",
   "nbconvert_exporter": "python",
   "pygments_lexer": "ipython3",
   "version": "3.9.12"
  },
  "orig_nbformat": 4
 },
 "nbformat": 4,
 "nbformat_minor": 2
}
